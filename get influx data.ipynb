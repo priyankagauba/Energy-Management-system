{
 "cells": [
  {
   "cell_type": "code",
   "execution_count": 1,
   "metadata": {},
   "outputs": [],
   "source": [
    "import warnings\n",
    "warnings.filterwarnings('ignore')\n",
    "import pandas as pd\n",
    "import numpy as np\n",
    "\n",
    "from influxdb import *\n",
    "from influxdb import DataFrameClient\n",
    "import datetime"
   ]
  },
  {
   "cell_type": "code",
   "execution_count": 2,
   "metadata": {},
   "outputs": [],
   "source": [
    "INFLUX_DB_IP = '10.12.97.178'\n",
    "INFLUX_DB_PORT = 8086\n",
    "INFLUX_DB = 'demoDb'\n",
    "TARGET_MEASUREMENT = 'Energy24'\n",
    "\n",
    "con_obj = InfluxDBClient(host=INFLUX_DB_IP, port=INFLUX_DB_PORT, database=INFLUX_DB)\n",
    "query = 'select \"time\",\"EM4\" from ' + TARGET_MEASUREMENT + ' where time > now() - 150d '\n",
    "df = pd.DataFrame(con_obj.query(query).get_points())\n",
    "df['time'] = df['time'].astype('datetime64[ns]')\n",
    "df['time'] = df['time'] + datetime.timedelta(hours=5, minutes=30)\n",
    "#df = df[df['DeviceID'] == 'EM22']"
   ]
  },
  {
   "cell_type": "code",
   "execution_count": 3,
   "metadata": {},
   "outputs": [],
   "source": [
    "# start = pd.datetime.now().date() - pd.offsets.Day(2)\n",
    "# stop = pd.datetime.now().date() - pd.offsets.Day(1)\n",
    "# df1 = df[(df['time'] >= start) & (df['time'] < stop)]"
   ]
  },
  {
   "cell_type": "code",
   "execution_count": 4,
   "metadata": {},
   "outputs": [
    {
     "name": "stdout",
     "output_type": "stream",
     "text": [
      "2020-05-29 20:00:00\n",
      "2020-09-18 12:00:00\n"
     ]
    }
   ],
   "source": [
    "print(df.time.min())\n",
    "print(df.time.max())"
   ]
  },
  {
   "cell_type": "code",
   "execution_count": 5,
   "metadata": {},
   "outputs": [],
   "source": [
    "df=df.set_index('time')"
   ]
  },
  {
   "cell_type": "code",
   "execution_count": 6,
   "metadata": {},
   "outputs": [
    {
     "data": {
      "text/plain": [
       "2651"
      ]
     },
     "execution_count": 6,
     "metadata": {},
     "output_type": "execute_result"
    }
   ],
   "source": [
    "len(df)"
   ]
  },
  {
   "cell_type": "code",
   "execution_count": 7,
   "metadata": {},
   "outputs": [],
   "source": [
    "#df1.to_excel(\"EM22_08_25_2020.xlsx\")"
   ]
  },
  {
   "cell_type": "code",
   "execution_count": 8,
   "metadata": {},
   "outputs": [],
   "source": [
    "Time_range = pd.DataFrame(pd.date_range(start=(df.index.min()), end=(df.index.max()), freq='H'))\n",
    "Time_range = Time_range.rename(columns={0: \"time\"})\n",
    "Time_range.set_index(\"time\", inplace=True)\n",
    "df = df.merge(Time_range, how=\"outer\", right_index=True, left_index=True)\n",
    "df = df.interpolate(method='time')\n",
    "df = df.fillna(0)"
   ]
  },
  {
   "cell_type": "code",
   "execution_count": 9,
   "metadata": {},
   "outputs": [
    {
     "data": {
      "text/plain": [
       "2681"
      ]
     },
     "execution_count": 9,
     "metadata": {},
     "output_type": "execute_result"
    }
   ],
   "source": [
    "len(Time_range)"
   ]
  },
  {
   "cell_type": "code",
   "execution_count": 10,
   "metadata": {},
   "outputs": [
    {
     "data": {
      "text/plain": [
       "2681"
      ]
     },
     "execution_count": 10,
     "metadata": {},
     "output_type": "execute_result"
    }
   ],
   "source": [
    "len(df)"
   ]
  },
  {
   "cell_type": "code",
   "execution_count": 11,
   "metadata": {},
   "outputs": [],
   "source": [
    "#df.to_excel(\"Energy2020-05-29to2020-09-17.xlsx\")"
   ]
  },
  {
   "cell_type": "code",
   "execution_count": null,
   "metadata": {},
   "outputs": [],
   "source": []
  }
 ],
 "metadata": {
  "kernelspec": {
   "display_name": "Python 3",
   "language": "python",
   "name": "python3"
  },
  "language_info": {
   "codemirror_mode": {
    "name": "ipython",
    "version": 3
   },
   "file_extension": ".py",
   "mimetype": "text/x-python",
   "name": "python",
   "nbconvert_exporter": "python",
   "pygments_lexer": "ipython3",
   "version": "3.6.8"
  }
 },
 "nbformat": 4,
 "nbformat_minor": 4
}
