{
 "cells": [
  {
   "cell_type": "code",
   "execution_count": 1,
   "metadata": {},
   "outputs": [],
   "source": [
    "import warnings\n",
    "warnings.filterwarnings('ignore')\n",
    "import pandas as pd\n",
    "import numpy as np\n",
    "from influxdb import *\n",
    "import datetime\n"
   ]
  },
  {
   "cell_type": "code",
   "execution_count": 2,
   "metadata": {},
   "outputs": [],
   "source": [
    "INFLUX_DB_IP = '10.12.97.178'\n",
    "INFLUX_DB_PORT = 8086\n",
    "INFLUX_DB = 'demoDb'\n",
    "TARGET_MEASUREMENT = 'EM_live'"
   ]
  },
  {
   "cell_type": "code",
   "execution_count": 3,
   "metadata": {},
   "outputs": [
    {
     "data": {
      "text/html": [
       "<div>\n",
       "<style scoped>\n",
       "    .dataframe tbody tr th:only-of-type {\n",
       "        vertical-align: middle;\n",
       "    }\n",
       "\n",
       "    .dataframe tbody tr th {\n",
       "        vertical-align: top;\n",
       "    }\n",
       "\n",
       "    .dataframe thead th {\n",
       "        text-align: right;\n",
       "    }\n",
       "</style>\n",
       "<table border=\"1\" class=\"dataframe\">\n",
       "  <thead>\n",
       "    <tr style=\"text-align: right;\">\n",
       "      <th></th>\n",
       "      <th>time</th>\n",
       "      <th>DeviceID</th>\n",
       "      <th>EM_Active Power (kW)</th>\n",
       "      <th>EM_Current Avg (A)</th>\n",
       "      <th>EM_Current Ph1 (A)</th>\n",
       "      <th>EM_Current Ph2 (A)</th>\n",
       "      <th>EM_Current Ph3 (A)</th>\n",
       "      <th>EM_Energy (kWh)</th>\n",
       "      <th>EM_Frequency (Hz)</th>\n",
       "      <th>EM_Power Factor</th>\n",
       "      <th>...</th>\n",
       "      <th>EM_Voltage Ph2-Ph3 (V)</th>\n",
       "      <th>EM_Voltage Ph3-N (V)</th>\n",
       "      <th>Mean_THD</th>\n",
       "      <th>SCS</th>\n",
       "      <th>imbalance_current</th>\n",
       "      <th>imbalance_volt</th>\n",
       "      <th>mean_current</th>\n",
       "      <th>mean_volt</th>\n",
       "      <th>mean_voltage</th>\n",
       "      <th>temp_rise</th>\n",
       "    </tr>\n",
       "  </thead>\n",
       "  <tbody>\n",
       "    <tr>\n",
       "      <th>0</th>\n",
       "      <td>2020-06-17 05:57:02.641190912</td>\n",
       "      <td>EM10</td>\n",
       "      <td>55308.0</td>\n",
       "      <td>137.2</td>\n",
       "      <td>147.8</td>\n",
       "      <td>135.5</td>\n",
       "      <td>128.2</td>\n",
       "      <td>137049.2</td>\n",
       "      <td>50.0</td>\n",
       "      <td>0.8</td>\n",
       "      <td>...</td>\n",
       "      <td>410.3</td>\n",
       "      <td>235.1</td>\n",
       "      <td>0.000000</td>\n",
       "      <td>1</td>\n",
       "      <td>7.752126</td>\n",
       "      <td>0.292184</td>\n",
       "      <td>137.166667</td>\n",
       "      <td>410.700000</td>\n",
       "      <td>236.900000</td>\n",
       "      <td>0.170743</td>\n",
       "    </tr>\n",
       "    <tr>\n",
       "      <th>1</th>\n",
       "      <td>2020-06-17 05:57:03.084325120</td>\n",
       "      <td>EM6</td>\n",
       "      <td>0.0</td>\n",
       "      <td>0.0</td>\n",
       "      <td>0.1</td>\n",
       "      <td>0.0</td>\n",
       "      <td>0.1</td>\n",
       "      <td>269097.1</td>\n",
       "      <td>50.0</td>\n",
       "      <td>0.0</td>\n",
       "      <td>...</td>\n",
       "      <td>393.6</td>\n",
       "      <td>227.5</td>\n",
       "      <td>0.000000</td>\n",
       "      <td>0</td>\n",
       "      <td>50.000000</td>\n",
       "      <td>0.194915</td>\n",
       "      <td>0.066667</td>\n",
       "      <td>393.333333</td>\n",
       "      <td>227.100000</td>\n",
       "      <td>0.075984</td>\n",
       "    </tr>\n",
       "    <tr>\n",
       "      <th>2</th>\n",
       "      <td>2020-06-17 05:57:03.105313024</td>\n",
       "      <td>EM9</td>\n",
       "      <td>80.1</td>\n",
       "      <td>133.6</td>\n",
       "      <td>133.2</td>\n",
       "      <td>135.1</td>\n",
       "      <td>132.4</td>\n",
       "      <td>32171.5</td>\n",
       "      <td>50.0</td>\n",
       "      <td>0.8</td>\n",
       "      <td>...</td>\n",
       "      <td>391.2</td>\n",
       "      <td>225.8</td>\n",
       "      <td>0.000000</td>\n",
       "      <td>1</td>\n",
       "      <td>1.147991</td>\n",
       "      <td>0.222032</td>\n",
       "      <td>133.566667</td>\n",
       "      <td>390.333333</td>\n",
       "      <td>225.333333</td>\n",
       "      <td>0.098597</td>\n",
       "    </tr>\n",
       "    <tr>\n",
       "      <th>3</th>\n",
       "      <td>2020-06-17 05:57:03.391980032</td>\n",
       "      <td>EM22</td>\n",
       "      <td>0.0</td>\n",
       "      <td>0.0</td>\n",
       "      <td>0.0</td>\n",
       "      <td>0.0</td>\n",
       "      <td>0.0</td>\n",
       "      <td>44203.4</td>\n",
       "      <td>50.0</td>\n",
       "      <td>0.0</td>\n",
       "      <td>...</td>\n",
       "      <td>391.2</td>\n",
       "      <td>226.5</td>\n",
       "      <td>0.000000</td>\n",
       "      <td>0</td>\n",
       "      <td>0.000000</td>\n",
       "      <td>0.323349</td>\n",
       "      <td>0.000000</td>\n",
       "      <td>391.733333</td>\n",
       "      <td>226.166667</td>\n",
       "      <td>0.209109</td>\n",
       "    </tr>\n",
       "    <tr>\n",
       "      <th>4</th>\n",
       "      <td>2020-06-17 05:57:04.148231936</td>\n",
       "      <td>EM5</td>\n",
       "      <td>281.9</td>\n",
       "      <td>469.2</td>\n",
       "      <td>494.0</td>\n",
       "      <td>442.5</td>\n",
       "      <td>471.0</td>\n",
       "      <td>257248.0</td>\n",
       "      <td>50.0</td>\n",
       "      <td>0.8</td>\n",
       "      <td>...</td>\n",
       "      <td>392.9</td>\n",
       "      <td>227.1</td>\n",
       "      <td>6.233333</td>\n",
       "      <td>1</td>\n",
       "      <td>5.293073</td>\n",
       "      <td>0.067848</td>\n",
       "      <td>469.166667</td>\n",
       "      <td>393.033333</td>\n",
       "      <td>226.900000</td>\n",
       "      <td>0.009207</td>\n",
       "    </tr>\n",
       "  </tbody>\n",
       "</table>\n",
       "<p>5 rows × 30 columns</p>\n",
       "</div>"
      ],
      "text/plain": [
       "                           time DeviceID  EM_Active Power (kW)  \\\n",
       "0 2020-06-17 05:57:02.641190912     EM10               55308.0   \n",
       "1 2020-06-17 05:57:03.084325120      EM6                   0.0   \n",
       "2 2020-06-17 05:57:03.105313024      EM9                  80.1   \n",
       "3 2020-06-17 05:57:03.391980032     EM22                   0.0   \n",
       "4 2020-06-17 05:57:04.148231936      EM5                 281.9   \n",
       "\n",
       "   EM_Current Avg (A)  EM_Current Ph1 (A)  EM_Current Ph2 (A)  \\\n",
       "0               137.2               147.8               135.5   \n",
       "1                 0.0                 0.1                 0.0   \n",
       "2               133.6               133.2               135.1   \n",
       "3                 0.0                 0.0                 0.0   \n",
       "4               469.2               494.0               442.5   \n",
       "\n",
       "   EM_Current Ph3 (A)  EM_Energy (kWh)  EM_Frequency (Hz)  EM_Power Factor  \\\n",
       "0               128.2         137049.2               50.0              0.8   \n",
       "1                 0.1         269097.1               50.0              0.0   \n",
       "2               132.4          32171.5               50.0              0.8   \n",
       "3                 0.0          44203.4               50.0              0.0   \n",
       "4               471.0         257248.0               50.0              0.8   \n",
       "\n",
       "   ...  EM_Voltage Ph2-Ph3 (V)  EM_Voltage Ph3-N (V)  Mean_THD  SCS  \\\n",
       "0  ...                   410.3                 235.1  0.000000    1   \n",
       "1  ...                   393.6                 227.5  0.000000    0   \n",
       "2  ...                   391.2                 225.8  0.000000    1   \n",
       "3  ...                   391.2                 226.5  0.000000    0   \n",
       "4  ...                   392.9                 227.1  6.233333    1   \n",
       "\n",
       "   imbalance_current  imbalance_volt  mean_current   mean_volt  mean_voltage  \\\n",
       "0           7.752126        0.292184    137.166667  410.700000    236.900000   \n",
       "1          50.000000        0.194915      0.066667  393.333333    227.100000   \n",
       "2           1.147991        0.222032    133.566667  390.333333    225.333333   \n",
       "3           0.000000        0.323349      0.000000  391.733333    226.166667   \n",
       "4           5.293073        0.067848    469.166667  393.033333    226.900000   \n",
       "\n",
       "   temp_rise  \n",
       "0   0.170743  \n",
       "1   0.075984  \n",
       "2   0.098597  \n",
       "3   0.209109  \n",
       "4   0.009207  \n",
       "\n",
       "[5 rows x 30 columns]"
      ]
     },
     "execution_count": 3,
     "metadata": {},
     "output_type": "execute_result"
    }
   ],
   "source": [
    "con_obj = InfluxDBClient(host=INFLUX_DB_IP, port=INFLUX_DB_PORT, database=INFLUX_DB)\n",
    "query = 'select * from ' + TARGET_MEASUREMENT + ' where time > now() - 2d '\n",
    "df = pd.DataFrame(con_obj.query(query, chunked=True, chunk_size=10000).get_points())\n",
    "df['time'] = df['time'].astype('datetime64[ns]')\n",
    "\n",
    "df.head()"
   ]
  },
  {
   "cell_type": "code",
   "execution_count": 29,
   "metadata": {},
   "outputs": [],
   "source": [
    "df1 = df[ (df['time'] >= '2020-06-18 00:00:00.000000000') & (df['time'] < '2020-06-19 00:00:00.000000000') ]\n",
    "df1=df1[df1['DeviceID']=='EM4']\n",
    "#df1 = df1[['time', 'EM_TOTAL_Import_Energy(kWh)','DeviceID']]\n",
    "df1=df1.set_index('time')"
   ]
  },
  {
   "cell_type": "code",
   "execution_count": 30,
   "metadata": {},
   "outputs": [],
   "source": [
    "df1['diff']=df1.index.to_series().diff().dt.total_seconds().dropna()"
   ]
  },
  {
   "cell_type": "code",
   "execution_count": 31,
   "metadata": {},
   "outputs": [
    {
     "data": {
      "text/plain": [
       "0.630535936"
      ]
     },
     "execution_count": 31,
     "metadata": {},
     "output_type": "execute_result"
    }
   ],
   "source": [
    "df1['diff'].min()"
   ]
  },
  {
   "cell_type": "code",
   "execution_count": 32,
   "metadata": {},
   "outputs": [
    {
     "data": {
      "text/plain": [
       "8.158383829333333"
      ]
     },
     "execution_count": 32,
     "metadata": {},
     "output_type": "execute_result"
    }
   ],
   "source": [
    "df1['diff'].max()/60"
   ]
  },
  {
   "cell_type": "code",
   "execution_count": 33,
   "metadata": {},
   "outputs": [
    {
     "data": {
      "text/plain": [
       "<matplotlib.axes._subplots.AxesSubplot at 0x21b0ea00668>"
      ]
     },
     "execution_count": 33,
     "metadata": {},
     "output_type": "execute_result"
    },
    {
     "data": {
      "image/png": "[encoded data removed]",
      "text/plain": [
       "<Figure size 1152x360 with 1 Axes>"
      ]
     },
     "metadata": {
      "needs_background": "light"
     },
     "output_type": "display_data"
    }
   ],
   "source": [
    "df1['EM_Active Power (kW)'].plot(figsize = (16,5),lw=4)"
   ]
  },
  {
   "cell_type": "code",
   "execution_count": null,
   "metadata": {},
   "outputs": [],
   "source": []
  }
 ],
 "metadata": {
  "kernelspec": {
   "display_name": "Python 3",
   "language": "python",
   "name": "python3"
  },
  "language_info": {
   "codemirror_mode": {
    "name": "ipython",
    "version": 3
   },
   "file_extension": ".py",
   "mimetype": "text/x-python",
   "name": "python",
   "nbconvert_exporter": "python",
   "pygments_lexer": "ipython3",
   "version": "3.6.8"
  }
 },
 "nbformat": 4,
 "nbformat_minor": 4
}
