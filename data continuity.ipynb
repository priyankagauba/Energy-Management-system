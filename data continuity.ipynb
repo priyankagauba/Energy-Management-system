{
 "cells": [
  {
   "cell_type": "code",
   "execution_count": 1,
   "metadata": {},
   "outputs": [],
   "source": [
    "import warnings\n",
    "warnings.filterwarnings('ignore')\n",
    "import pandas as pd\n",
    "import numpy as np\n",
    "from influxdb import *\n",
    "import datetime\n"
   ]
  },
  {
   "cell_type": "code",
   "execution_count": 2,
   "metadata": {},
   "outputs": [],
   "source": [
    "INFLUX_DB_IP = '10.12.97.178'\n",
    "INFLUX_DB_PORT = 8086\n",
    "INFLUX_DB = 'demoDb'\n",
    "TARGET_MEASUREMENT = 'EM_main_new'\n",
    "\n",
    "con_obj = InfluxDBClient(host=INFLUX_DB_IP, port=INFLUX_DB_PORT, database=INFLUX_DB)\n",
    "query = 'select  \"time\", \"DeviceID\",\"EM_TOTAL_Import_Energy(kWh)\"  from ' + TARGET_MEASUREMENT + ' where time > now() - 4d '\n",
    "df1 = pd.DataFrame(con_obj.query(query, chunked=True, chunk_size=10000).get_points())\n",
    "df1['time'] = df1['time'].astype('datetime64[ns]')\n"
   ]
  },
  {
   "cell_type": "code",
   "execution_count": 3,
   "metadata": {},
   "outputs": [
    {
     "data": {
      "text/html": [
       "<div>\n",
       "<style scoped>\n",
       "    .dataframe tbody tr th:only-of-type {\n",
       "        vertical-align: middle;\n",
       "    }\n",
       "\n",
       "    .dataframe tbody tr th {\n",
       "        vertical-align: top;\n",
       "    }\n",
       "\n",
       "    .dataframe thead th {\n",
       "        text-align: right;\n",
       "    }\n",
       "</style>\n",
       "<table border=\"1\" class=\"dataframe\">\n",
       "  <thead>\n",
       "    <tr style=\"text-align: right;\">\n",
       "      <th></th>\n",
       "      <th>time</th>\n",
       "      <th>DeviceID</th>\n",
       "      <th>EM_TOTAL_Import_Energy(kWh)</th>\n",
       "    </tr>\n",
       "  </thead>\n",
       "  <tbody>\n",
       "    <tr>\n",
       "      <th>0</th>\n",
       "      <td>2020-06-22 03:38:49.385500928</td>\n",
       "      <td>EM10</td>\n",
       "      <td>140891.5</td>\n",
       "    </tr>\n",
       "    <tr>\n",
       "      <th>1</th>\n",
       "      <td>2020-06-22 03:38:49.393491968</td>\n",
       "      <td>EM5</td>\n",
       "      <td>282689.0</td>\n",
       "    </tr>\n",
       "    <tr>\n",
       "      <th>2</th>\n",
       "      <td>2020-06-22 03:38:49.989245952</td>\n",
       "      <td>EM9</td>\n",
       "      <td>36053.2</td>\n",
       "    </tr>\n",
       "    <tr>\n",
       "      <th>3</th>\n",
       "      <td>2020-06-22 03:38:50.148081920</td>\n",
       "      <td>EM1</td>\n",
       "      <td>585806.0</td>\n",
       "    </tr>\n",
       "    <tr>\n",
       "      <th>4</th>\n",
       "      <td>2020-06-22 03:38:50.641288960</td>\n",
       "      <td>EM7</td>\n",
       "      <td>39.8</td>\n",
       "    </tr>\n",
       "  </tbody>\n",
       "</table>\n",
       "</div>"
      ],
      "text/plain": [
       "                           time DeviceID  EM_TOTAL_Import_Energy(kWh)\n",
       "0 2020-06-22 03:38:49.385500928     EM10                     140891.5\n",
       "1 2020-06-22 03:38:49.393491968      EM5                     282689.0\n",
       "2 2020-06-22 03:38:49.989245952      EM9                      36053.2\n",
       "3 2020-06-22 03:38:50.148081920      EM1                     585806.0\n",
       "4 2020-06-22 03:38:50.641288960      EM7                         39.8"
      ]
     },
     "execution_count": 3,
     "metadata": {},
     "output_type": "execute_result"
    }
   ],
   "source": [
    "df1.head()"
   ]
  },
  {
   "cell_type": "code",
   "execution_count": 4,
   "metadata": {},
   "outputs": [
    {
     "data": {
      "text/plain": [
       "Timestamp('2020-06-22 03:38:49.385500928')"
      ]
     },
     "execution_count": 4,
     "metadata": {},
     "output_type": "execute_result"
    }
   ],
   "source": [
    "df1['time'].min()"
   ]
  },
  {
   "cell_type": "code",
   "execution_count": 5,
   "metadata": {},
   "outputs": [
    {
     "data": {
      "text/plain": [
       "Timestamp('2020-06-26 02:59:11.462104064')"
      ]
     },
     "execution_count": 5,
     "metadata": {},
     "output_type": "execute_result"
    }
   ],
   "source": [
    "df1['time'].max()"
   ]
  },
  {
   "cell_type": "code",
   "execution_count": 6,
   "metadata": {},
   "outputs": [],
   "source": [
    "date_old = pd.datetime.now().date() - pd.offsets.Day(3)\n",
    "date_now = pd.datetime.now().date() - pd.offsets.Day(0)\n",
    "df1 = df1[(df1['time'] >= date_old) & (df1['time'] < date_now)]\n",
    "\n"
   ]
  },
  {
   "cell_type": "code",
   "execution_count": 7,
   "metadata": {},
   "outputs": [
    {
     "data": {
      "text/plain": [
       "Timestamp('2020-06-23 00:00:00.118753024')"
      ]
     },
     "execution_count": 7,
     "metadata": {},
     "output_type": "execute_result"
    }
   ],
   "source": [
    "df1['time'].min()"
   ]
  },
  {
   "cell_type": "code",
   "execution_count": 8,
   "metadata": {
    "scrolled": true
   },
   "outputs": [
    {
     "data": {
      "text/plain": [
       "Timestamp('2020-06-25 23:59:59.887915008')"
      ]
     },
     "execution_count": 8,
     "metadata": {},
     "output_type": "execute_result"
    }
   ],
   "source": [
    "df1['time'].max()"
   ]
  },
  {
   "cell_type": "code",
   "execution_count": 30,
   "metadata": {},
   "outputs": [],
   "source": [
    "# INFLUX_DB_IP = '10.12.97.178'\n",
    "# INFLUX_DB_PORT = 8086\n",
    "# INFLUX_DB = 'demoDb'\n",
    "# TARGET_MEASUREMENT = 'EM_live'\n",
    "\n",
    "# con_obj = InfluxDBClient(host=INFLUX_DB_IP, port=INFLUX_DB_PORT, database=INFLUX_DB)\n",
    "# query = 'select  \"time\", \"DeviceID\",\"EM_TOTAL_Import_Energy(kWh)\"  from ' + TARGET_MEASUREMENT + ' where time > now() - 2d '\n",
    "# df2 = pd.DataFrame(con_obj.query(query, chunked=True, chunk_size=10000).get_points())\n",
    "# df2['time'] = df2['time'].astype('datetime64[ns]')\n"
   ]
  },
  {
   "cell_type": "code",
   "execution_count": 31,
   "metadata": {},
   "outputs": [],
   "source": [
    "# date_old = pd.datetime.now().date() - pd.offsets.Day(1)\n",
    "# date_now = pd.datetime.now().date() - pd.offsets.Day(0)\n",
    "# df2 = df2[(df2['time'] >= date_old) & (df2['time'] < date_now)]\n",
    "\n"
   ]
  },
  {
   "cell_type": "code",
   "execution_count": 32,
   "metadata": {},
   "outputs": [],
   "source": [
    "# df3 = pd.concat([df1, df2], ignore_index = True).drop_duplicates('time')\n"
   ]
  },
  {
   "cell_type": "code",
   "execution_count": 33,
   "metadata": {},
   "outputs": [
    {
     "data": {
      "text/html": [
       "<div>\n",
       "<style scoped>\n",
       "    .dataframe tbody tr th:only-of-type {\n",
       "        vertical-align: middle;\n",
       "    }\n",
       "\n",
       "    .dataframe tbody tr th {\n",
       "        vertical-align: top;\n",
       "    }\n",
       "\n",
       "    .dataframe thead th {\n",
       "        text-align: right;\n",
       "    }\n",
       "</style>\n",
       "<table border=\"1\" class=\"dataframe\">\n",
       "  <thead>\n",
       "    <tr style=\"text-align: right;\">\n",
       "      <th></th>\n",
       "      <th>time</th>\n",
       "      <th>DeviceID</th>\n",
       "      <th>EM_TOTAL_Import_Energy(kWh)</th>\n",
       "    </tr>\n",
       "  </thead>\n",
       "  <tbody>\n",
       "    <tr>\n",
       "      <th>0</th>\n",
       "      <td>2020-06-23 00:00:00.118753024</td>\n",
       "      <td>EM9</td>\n",
       "      <td>36698.3</td>\n",
       "    </tr>\n",
       "    <tr>\n",
       "      <th>1</th>\n",
       "      <td>2020-06-23 00:00:00.197954048</td>\n",
       "      <td>EM5</td>\n",
       "      <td>287249.0</td>\n",
       "    </tr>\n",
       "  </tbody>\n",
       "</table>\n",
       "</div>"
      ],
      "text/plain": [
       "                           time DeviceID  EM_TOTAL_Import_Energy(kWh)\n",
       "0 2020-06-23 00:00:00.118753024      EM9                      36698.3\n",
       "1 2020-06-23 00:00:00.197954048      EM5                     287249.0"
      ]
     },
     "execution_count": 33,
     "metadata": {},
     "output_type": "execute_result"
    }
   ],
   "source": [
    "# df3.head(2)"
   ]
  },
  {
   "cell_type": "code",
   "execution_count": 35,
   "metadata": {},
   "outputs": [
    {
     "data": {
      "text/plain": [
       "Timestamp('2020-06-25 23:59:59.887915008')"
      ]
     },
     "execution_count": 35,
     "metadata": {},
     "output_type": "execute_result"
    }
   ],
   "source": [
    "# df3.time.max()"
   ]
  },
  {
   "cell_type": "markdown",
   "metadata": {},
   "source": [
    "## Grid"
   ]
  },
  {
   "cell_type": "code",
   "execution_count": 25,
   "metadata": {},
   "outputs": [],
   "source": [
    "grid=df1.copy()\n",
    "grid=grid.set_index('time')\n",
    "grid = grid[grid['DeviceID'] == 'EM1']\n",
    "grid['diff']=grid.index.to_series().diff().dt.total_seconds().dropna()\n",
    "#extra['differ']=extra.groupby(extra.index.to_series().diff().total_seconds())"
   ]
  },
  {
   "cell_type": "code",
   "execution_count": 26,
   "metadata": {
    "scrolled": true
   },
   "outputs": [
    {
     "data": {
      "text/plain": [
       "count    55465.000000\n",
       "mean         4.673157\n",
       "std        162.902588\n",
       "min          0.625076\n",
       "25%          2.264503\n",
       "50%          2.449948\n",
       "75%          2.659312\n",
       "max      26861.158005\n",
       "Name: diff, dtype: float64"
      ]
     },
     "execution_count": 26,
     "metadata": {},
     "output_type": "execute_result"
    }
   ],
   "source": [
    "grid['diff'].describe()"
   ]
  },
  {
   "cell_type": "code",
   "execution_count": 29,
   "metadata": {},
   "outputs": [
    {
     "data": {
      "text/plain": [
       "time\n",
       "2020-06-23 08:15:57.657063936     2215.175607\n",
       "2020-06-23 12:58:32.797548032     5695.246804\n",
       "2020-06-23 15:25:52.183922176     8692.426644\n",
       "2020-06-24 05:31:14.525965056     2575.392434\n",
       "2020-06-24 06:43:43.109446912     3586.666598\n",
       "2020-06-24 08:49:18.196271872     1540.093765\n",
       "2020-06-24 14:50:24.490844928     3614.945816\n",
       "2020-06-24 15:52:01.999751168     3658.978163\n",
       "2020-06-25 02:09:41.400263168    26861.158005\n",
       "2020-06-25 10:30:53.613639168    21391.419260\n",
       "2020-06-25 11:06:41.691740160     1788.504132\n",
       "2020-06-25 11:23:33.348498176     1011.656758\n",
       "2020-06-25 11:42:07.755276800     1045.323695\n",
       "2020-06-25 13:41:04.042957056     6846.911742\n",
       "2020-06-25 14:22:29.130685952     2480.854122\n",
       "2020-06-25 15:29:09.194838016     3893.022143\n",
       "2020-06-25 16:11:45.240464896     1955.659670\n",
       "2020-06-25 16:30:14.272532992     1089.232713\n",
       "2020-06-25 18:23:38.591560960     6796.815644\n",
       "2020-06-25 19:04:58.851831808     2475.189929\n",
       "Name: diff, dtype: float64"
      ]
     },
     "execution_count": 29,
     "metadata": {},
     "output_type": "execute_result"
    }
   ],
   "source": [
    "grid[grid['diff'] > 900]['diff']\n"
   ]
  },
  {
   "cell_type": "markdown",
   "metadata": {},
   "source": [
    "## UPS 1"
   ]
  },
  {
   "cell_type": "code",
   "execution_count": 21,
   "metadata": {},
   "outputs": [],
   "source": [
    "ups1=df1.copy()\n",
    "ups1=ups1.set_index('time')\n",
    "ups1 = ups1[ups1['DeviceID'] == 'EM4']\n",
    "ups1['diff']=ups1.index.to_series().diff().dt.total_seconds().dropna()"
   ]
  },
  {
   "cell_type": "code",
   "execution_count": 22,
   "metadata": {},
   "outputs": [
    {
     "data": {
      "text/plain": [
       "time\n",
       "2020-06-23 06:57:29.963887104     120.986112\n",
       "2020-06-23 06:59:58.630022912      64.275926\n",
       "2020-06-23 07:05:57.048548096     168.499364\n",
       "2020-06-23 08:15:57.647066112    2215.781276\n",
       "2020-06-23 09:55:04.714277120     496.862434\n",
       "2020-06-23 11:21:10.115379200      74.660500\n",
       "2020-06-23 12:58:28.883273984    5691.064562\n",
       "2020-06-23 15:25:53.529878016    8693.021755\n",
       "2020-06-23 15:30:08.629041920     233.297966\n",
       "2020-06-23 16:59:10.546034176     110.011483\n",
       "2020-06-24 03:12:13.607183104     995.172807\n",
       "2020-06-24 06:47:11.693496832    1000.206025\n",
       "Name: diff, dtype: float64"
      ]
     },
     "execution_count": 22,
     "metadata": {},
     "output_type": "execute_result"
    }
   ],
   "source": [
    "ups1[ups1['diff'] > 60]['diff']"
   ]
  },
  {
   "cell_type": "markdown",
   "metadata": {},
   "source": [
    "## UPS 2"
   ]
  },
  {
   "cell_type": "code",
   "execution_count": 23,
   "metadata": {},
   "outputs": [],
   "source": [
    "ups2=df1.copy()\n",
    "ups2=ups2.set_index('time')\n",
    "ups2 = ups2[ups2['DeviceID'] == 'EM5']\n",
    "ups2['diff']=ups2.index.to_series().diff().dt.total_seconds().dropna()"
   ]
  },
  {
   "cell_type": "code",
   "execution_count": 24,
   "metadata": {},
   "outputs": [
    {
     "data": {
      "text/plain": [
       "time\n",
       "2020-06-23 06:57:31.238484992     122.508860\n",
       "2020-06-23 07:00:00.224014080      65.602592\n",
       "2020-06-23 07:05:59.955044096     172.414745\n",
       "2020-06-23 07:34:57.933703936      68.270327\n",
       "2020-06-23 08:16:04.231569920    2222.956026\n",
       "2020-06-23 09:55:01.535660032     492.755168\n",
       "2020-06-23 11:21:05.656920064      69.644946\n",
       "2020-06-23 12:57:45.427680000    5646.975830\n",
       "2020-06-23 15:25:51.116427776    8692.373270\n",
       "2020-06-23 15:30:11.411241984     235.264789\n",
       "2020-06-23 16:59:11.109900032     111.460161\n",
       "2020-06-24 04:44:45.053835008     995.515300\n",
       "2020-06-24 05:40:02.139130112    1000.595820\n",
       "2020-06-24 06:01:20.364960000    1000.959030\n",
       "2020-06-24 06:47:42.461014016    1000.458693\n",
       "Name: diff, dtype: float64"
      ]
     },
     "execution_count": 24,
     "metadata": {},
     "output_type": "execute_result"
    }
   ],
   "source": [
    "ups2[ups2['diff'] > 60]['diff']"
   ]
  },
  {
   "cell_type": "code",
   "execution_count": 45,
   "metadata": {},
   "outputs": [],
   "source": [
    "df1['date']=df3['time'].dt.date"
   ]
  },
  {
   "cell_type": "code",
   "execution_count": 47,
   "metadata": {},
   "outputs": [
    {
     "data": {
      "text/plain": [
       "date\n",
       "2020-06-24          [EM9, EM5, EM6, EM7, EM1, EM23, EM10, EM4]\n",
       "2020-06-25    [EM23, EM6, EM10, EM9, EM4, EM7, EM5, EM1, EM22]\n",
       "Name: DeviceID, dtype: object"
      ]
     },
     "execution_count": 47,
     "metadata": {},
     "output_type": "execute_result"
    }
   ],
   "source": [
    "df1.groupby('date')['DeviceID'].unique()"
   ]
  },
  {
   "cell_type": "code",
   "execution_count": null,
   "metadata": {},
   "outputs": [],
   "source": []
  },
  {
   "cell_type": "code",
   "execution_count": null,
   "metadata": {},
   "outputs": [],
   "source": []
  }
 ],
 "metadata": {
  "kernelspec": {
   "display_name": "Python 3",
   "language": "python",
   "name": "python3"
  },
  "language_info": {
   "codemirror_mode": {
    "name": "ipython",
    "version": 3
   },
   "file_extension": ".py",
   "mimetype": "text/x-python",
   "name": "python",
   "nbconvert_exporter": "python",
   "pygments_lexer": "ipython3",
   "version": "3.6.8"
  }
 },
 "nbformat": 4,
 "nbformat_minor": 4
}
